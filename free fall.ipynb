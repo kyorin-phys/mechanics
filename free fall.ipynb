{
 "cells": [
  {
   "cell_type": "code",
   "execution_count": 2,
   "metadata": {},
   "outputs": [
    {
     "name": "stderr",
     "output_type": "stream",
     "text": [
      "/home/nbuser/anaconda3_501/lib/python3.6/site-packages/matplotlib/font_manager.py:281: UserWarning: Matplotlib is building the font cache using fc-list. This may take a moment.\n",
      "  'Matplotlib is building the font cache using fc-list. '\n"
     ]
    }
   ],
   "source": [
    "import numpy as np\n",
    "import matplotlib.pyplot as plt\n",
    "%matplotlib inline\n",
    "from ipywidgets import interactive"
   ]
  },
  {
   "cell_type": "code",
   "execution_count": 3,
   "metadata": {},
   "outputs": [
    {
     "name": "stdout",
     "output_type": "stream",
     "text": [
      "0.451753951453\n"
     ]
    }
   ],
   "source": [
    "h = 1.0\n",
    "g = 9.8\n",
    "v0 = 1.0\n",
    "t1 = np.sqrt(2*h/g)\n",
    "t = np.arange(0, t1, t1/100)\n",
    "x = v0*t\n",
    "y = h-g/2*t**2\n",
    "print(t1)"
   ]
  },
  {
   "cell_type": "code",
   "execution_count": 4,
   "metadata": {},
   "outputs": [
    {
     "data": {
      "text/plain": [
       "Text(0,0.5,'y')"
      ]
     },
     "execution_count": 4,
     "metadata": {},
     "output_type": "execute_result"
    },
    {
     "data": {
      "image/png": "[encoded data removed]",
      "text/plain": [
       "<matplotlib.figure.Figure at 0x7f465bbce8d0>"
      ]
     },
     "metadata": {},
     "output_type": "display_data"
    }
   ],
   "source": [
    "plt.plot(x, y)\n",
    "plt.grid(True)\n",
    "plt.title('x-y')\n",
    "plt.xlabel('x')\n",
    "plt.ylabel('y')"
   ]
  },
  {
   "cell_type": "code",
   "execution_count": 5,
   "metadata": {},
   "outputs": [
    {
     "data": {
      "text/plain": [
       "Text(0,0.5,'y')"
      ]
     },
     "execution_count": 5,
     "metadata": {},
     "output_type": "execute_result"
    },
    {
     "data": {
      "image/png": "[encoded data removed]",
      "text/plain": [
       "<matplotlib.figure.Figure at 0x7f465bfe3d30>"
      ]
     },
     "metadata": {},
     "output_type": "display_data"
    }
   ],
   "source": [
    "plt.plot(t, y)\n",
    "plt.grid(True)\n",
    "plt.title('t-y')\n",
    "plt.xlabel('t')\n",
    "plt.ylabel('y')"
   ]
  },
  {
   "cell_type": "code",
   "execution_count": 6,
   "metadata": {},
   "outputs": [
    {
     "data": {
      "application/vnd.jupyter.widget-view+json": {
       "model_id": "e579aa79066249d28d00fe36d2f24056",
       "version_major": 2,
       "version_minor": 0
      },
      "text/plain": [
       "A Jupyter Widget"
      ]
     },
     "metadata": {},
     "output_type": "display_data"
    }
   ],
   "source": [
    "def f(deg):\n",
    "    h = 1.0\n",
    "    theta = np.radians(deg)\n",
    "    vx0 = v0*np.cos(theta)\n",
    "    vy0 = v0*np.sin(theta)\n",
    "    t1 = (vy0+np.sqrt(vy0**2+2*g*h))/g\n",
    "    n = 50\n",
    "    t = np.arange(0, t1*(1+1/n), t1/n)\n",
    "    x = vx0*t\n",
    "    y = h+vy0*t-g/2*t**2\n",
    "    xmax = 0.5\n",
    "    ymax = 1.06\n",
    "    plt.xlim(0, xmax)\n",
    "    plt.ylim(0, ymax)\n",
    "    plt.xlabel('x')\n",
    "    plt.ylabel('y')\n",
    "    plt.plot(x, y)\n",
    "    \n",
    "interactive(f, deg=(0, 90, 5))"
   ]
  },
  {
   "cell_type": "code",
   "execution_count": 23,
   "metadata": {},
   "outputs": [
    {
     "data": {
      "application/vnd.jupyter.widget-view+json": {
       "model_id": "57ea21b8ecdb4d79a453b88173f2c760",
       "version_major": 2,
       "version_minor": 0
      },
      "text/plain": [
       "A Jupyter Widget"
      ]
     },
     "metadata": {},
     "output_type": "display_data"
    }
   ],
   "source": [
    "def hight(h,v0):\n",
    "    #v0 = 1.0\n",
    "    d = np.arange(0, 90, 1)\n",
    "    th = np.radians(d)\n",
    "    vx0 = v0*np.cos(th)\n",
    "    vy0 = v0*np.sin(th)\n",
    "    t1 = (vy0+np.sqrt(vy0**2+2*g*h))/g\n",
    "    x = vx0*t1\n",
    "    t0 = vy0/g\n",
    "    ymax = h+vy0**2/2/g\n",
    "    plt.ylim(0, 2) \n",
    "    plt.plot(d, x)\n",
    "    plt.xlabel(r\"$\\theta$[degree]\")\n",
    "    plt.ylabel(\"distance\")\n",
    "interactive(hight, h=(0,10), v0=(0.1, 3))"
   ]
  },
  {
   "cell_type": "code",
   "execution_count": 26,
   "metadata": {},
   "outputs": [
    {
     "ename": "NameError",
     "evalue": "name 'vy0' is not defined",
     "output_type": "error",
     "traceback": [
      "\u001b[0;31m---------------------------------------------------------------------------\u001b[0m",
      "\u001b[0;31mNameError\u001b[0m                                 Traceback (most recent call last)",
      "\u001b[0;32m<ipython-input-26-a3dd444efb19>\u001b[0m in \u001b[0;36m<module>\u001b[0;34m()\u001b[0m\n\u001b[1;32m      1\u001b[0m \u001b[0md\u001b[0m \u001b[0;34m=\u001b[0m \u001b[0mnp\u001b[0m\u001b[0;34m.\u001b[0m\u001b[0marange\u001b[0m\u001b[0;34m(\u001b[0m\u001b[0;36m0\u001b[0m\u001b[0;34m,\u001b[0m \u001b[0;36m90\u001b[0m\u001b[0;34m,\u001b[0m \u001b[0;36m1\u001b[0m\u001b[0;34m)\u001b[0m\u001b[0;34m\u001b[0m\u001b[0m\n\u001b[0;32m----> 2\u001b[0;31m \u001b[0mymax\u001b[0m \u001b[0;34m=\u001b[0m \u001b[0mh\u001b[0m \u001b[0;34m+\u001b[0m \u001b[0mvy0\u001b[0m\u001b[0;34m**\u001b[0m\u001b[0;36m2\u001b[0m\u001b[0;34m/\u001b[0m\u001b[0;36m2\u001b[0m\u001b[0;34m/\u001b[0m\u001b[0mg\u001b[0m\u001b[0;34m\u001b[0m\u001b[0m\n\u001b[0m\u001b[1;32m      3\u001b[0m \u001b[0mplt\u001b[0m\u001b[0;34m.\u001b[0m\u001b[0mplot\u001b[0m\u001b[0;34m(\u001b[0m\u001b[0md\u001b[0m\u001b[0;34m,\u001b[0m \u001b[0mymax\u001b[0m\u001b[0;34m)\u001b[0m\u001b[0;34m\u001b[0m\u001b[0m\n",
      "\u001b[0;31mNameError\u001b[0m: name 'vy0' is not defined"
     ]
    }
   ],
   "source": [
    "d = np.arange(0, 90, 1)\n",
    "ymax = h + vy0**2/2/g\n",
    "plt.plot(d, ymax)"
   ]
  },
  {
   "cell_type": "code",
   "execution_count": 27,
   "metadata": {},
   "outputs": [
    {
     "data": {
      "image/png": "[encoded data removed]",
      "text/plain": [
       "<matplotlib.figure.Figure at 0x7fa456c9a6d8>"
      ]
     },
     "metadata": {},
     "output_type": "display_data"
    }
   ],
   "source": [
    "import matplotlib.animation as animation\n",
    "fig = plt.figure()\n",
    "ax = plt.axes(xlim=(0,2), ylim=(-2,2))\n",
    "line, = ax.plot([], [], lw=2)\n",
    "def init():\n",
    "    line.set_data([], [])\n",
    "    return line,\n",
    "\n",
    "def animate(i):\n",
    "    x = np.linspace(0, 2, 1000)\n",
    "    y = np.sin(2*np.pi*(x-0.01*i))\n",
    "    line.set_data(x, y)\n",
    "    return line,\n",
    "\n",
    "anim = animation.FuncAnimation(fig, animate, init_func=init, frames=200, interval=20, blit=True)\n",
    "plt.show()\n",
    "#def plot(data):\n",
    "#    plt.cla()\n",
    "#    rand = np.random.randn(100)\n",
    "#    im = plt.plot(rand)\n",
    "#ani = animation.FuncAnimation(fig, plot, interval=100, frames=10)"
   ]
  },
  {
   "cell_type": "code",
   "execution_count": 32,
   "metadata": {},
   "outputs": [
    {
     "data": {
      "application/vnd.jupyter.widget-view+json": {
       "model_id": "01fdc23197554312a508989d7cff5544",
       "version_major": 2,
       "version_minor": 0
      },
      "text/plain": [
       "A Jupyter Widget"
      ]
     },
     "metadata": {},
     "output_type": "display_data"
    }
   ],
   "source": [
    "from matplotlib.patches import Polygon\n",
    "def func(x):\n",
    "    return x**2\n",
    "    #return np.sin(x)\n",
    "    #return np.exp(-x)\n",
    "a, b = 0, np.pi\n",
    "a, b = 0, 1\n",
    "\n",
    "def plotpoly(n):\n",
    "    \n",
    "    x = np.linspace(a, b)\n",
    "    y = func(x)\n",
    "    fig, ax = plt.subplots()\n",
    "    plt.plot(x, y, 'r', linewidth=2)\n",
    "    plt.ylim(ymin=0)\n",
    "    ix = np.linspace(a, b, n)\n",
    "    iy = func(ix)\n",
    "    h = (b-a)/n\n",
    "    for i in range(n):\n",
    "        x0 = a + i * h\n",
    "        x1 = a + (i+1)*h\n",
    "        y0 = func(x0)\n",
    "        y1 = func(x1)\n",
    "        verts1 = [(x0,0), (x0,y0), (x1,y0), (x1,0)]\n",
    "        verts2 = [(x0,0), (x0,y1), (x1,y1), (x1,0)]\n",
    "        verts3 = [(x0,0), (x0,y0), (x1,y1), (x1,0)]\n",
    "        poly1 = Polygon(verts1, facecolor='0.7', edgecolor='0.2')\n",
    "        poly2 = Polygon(verts2, facecolor='0.9', edgecolor='0.3')\n",
    "        poly3 = Polygon(verts3, facecolor='0.7', edgecolor='0.3')\n",
    "        ax.add_patch(poly2)\n",
    "        ax.add_patch(poly1)\n",
    "        #ax.add_patch(poly3)\n",
    "interactive(plotpoly, n=(2,10))"
   ]
  },
  {
   "cell_type": "code",
   "execution_count": 29,
   "metadata": {},
   "outputs": [
    {
     "data": {
      "text/plain": [
       "<matplotlib.patches.Polygon at 0x7fa45647f358>"
      ]
     },
     "execution_count": 29,
     "metadata": {},
     "output_type": "execute_result"
    }
   ],
   "source": [
    "poly = Polygon([(1,0),(1,func(1)),(2,func(1)),(2,0)])\n",
    "ax.add_patch(poly)"
   ]
  },
  {
   "cell_type": "code",
   "execution_count": 30,
   "metadata": {},
   "outputs": [],
   "source": [
    "plt.show()"
   ]
  },
  {
   "cell_type": "code",
   "execution_count": null,
   "metadata": {},
   "outputs": [],
   "source": []
  }
 ],
 "metadata": {
  "kernelspec": {
   "display_name": "Python 3.6",
   "language": "python",
   "name": "python36"
  },
  "language_info": {
   "codemirror_mode": {
    "name": "ipython",
    "version": 3
   },
   "file_extension": ".py",
   "mimetype": "text/x-python",
   "name": "python",
   "nbconvert_exporter": "python",
   "pygments_lexer": "ipython3",
   "version": "3.6.3"
  }
 },
 "nbformat": 4,
 "nbformat_minor": 2
}
